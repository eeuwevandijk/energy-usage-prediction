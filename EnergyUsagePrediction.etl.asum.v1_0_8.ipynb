{
 "cells": [
  {
   "cell_type": "markdown",
   "metadata": {},
   "source": [
    "<b>EnergyUsagePrediction.etl.asum.v1_0_8.ipynb</b>\n",
    "<br/>For my use case \"Energy usage prediction based on historical weather and energy usage data.\", I use a dataset which can be downloaded from <a href=\"https://www.kaggle.com/taranvee/smart-home-dataset-with-weather-information\">kaggle</a>\n",
    "<br/>The last line of the csv contains garbage. I've already removed that line before starting the data exploration.\n",
    "<br/>Data exploration is described/performed in \"EnergyUsagePrediction.data_exp.asum.1_0_5.Ipynb\"\n",
    "<br/>\n",
    "<br/>Load <i>smart-home-dataset-with-weather-information_filtered.csv</i> file into pandas dataframe\n"
   ]
  },
  {
   "cell_type": "code",
   "execution_count": null,
   "metadata": {},
   "outputs": [],
   "source": [
    "import types\n",
    "import numpy as np\n",
    "import pandas as pd\n",
    "from botocore.client import Config\n",
    "import ibm_boto3\n",
    "\n",
    "def __iter__(self): return 0\n",
    "\n",
    "# @hidden_cell\n",
    "# The following code accesses a file in your IBM Cloud Object Storage. It includes your credentials.\n",
    "# You might want to remove those credentials before you share the notebook.\n",
    "client_x = ibm_boto3.client(service_name='s3',\n",
    "    ibm_api_key_id='[credentials]',\n",
    "    ibm_auth_endpoint=\"https://iam.cloud.ibm.com/oidc/token\",\n",
    "    config=Config(signature_version='oauth'),\n",
    "    endpoint_url='https://s3.eu-geo.objectstorage.service.networklayer.com')\n",
    "\n",
    "body = client_x.get_object(Bucket='xyz',Key='smart-home-dataset-with-weather-information_filtered.csv')['Body']\n",
    "# add missing __iter__ method, so pandas accepts body as file-like object\n",
    "if not hasattr(body, \"__iter__\"): body.__iter__ = types.MethodType( __iter__, body )\n",
    "\n",
    "df = pd.read_csv(body)\n",
    "df.head()\n",
    "\n"
   ]
  },
  {
   "cell_type": "markdown",
   "metadata": {},
   "source": [
    "For usability we define constants for the labels and for readability we change the labels."
   ]
  },
  {
   "cell_type": "code",
   "execution_count": 2,
   "metadata": {},
   "outputs": [],
   "source": [
    "lbTimestamp = 'Timestamp'\n",
    "lbTotalEneryUsage = 'TotalUsage_kW'\n",
    "lbEneryGeneration = 'Generated_kW'\n",
    "lbEneryUsageHouseOverall = 'HouseOverall_kW'\n",
    "lbDishwasherUsage = 'DishWasher_kW'\n",
    "lbFurnace1Usage = 'Furnace1_kW'\n",
    "lbFurnace2Usage = 'Furnace2_kW'\n",
    "lbHomeOfficeUsage = 'HomeOffice_kW'\n",
    "lbFridgeUsage = 'Fridge_kW'\n",
    "lbWineUsage = 'WineCellar_kW'\n",
    "lbGarageDoorUsage = 'GarageDoor_kW'\n",
    "lbKitchen12Usage = 'KitchenDevice12_kW'\n",
    "lbKitchen14Usage = 'KitchenDevice14_kW'\n",
    "lbKitchen38Usage = 'KitchenDevice38_kW'\n",
    "lbBarnUsage = 'Barn_kW'\n",
    "lbWellUsage = 'Well_kW'\n",
    "lbMicrowaveUsage = 'Microwave_kW'\n",
    "lbLivingRoomUsage = 'Living room_kW'\n",
    "lbSolarGenerated = 'Solar_kW'\n",
    "lbTemperature = 'Temperature_F'\n",
    "\n",
    "#Textial weather indicators: clear-day, clear-night, cloudy, fog, partly-cloudy-day, partly-cloudy-night, rain, snow, wind\n",
    "lbWeatherIndicator = 'WeatherIndicator'\n",
    "\n",
    "#Humidity range [0,1]\n",
    "lbHumidity = 'Humidity'\n",
    "\n",
    "#Visibility range [0,10]\n",
    "lbVisibility = 'Visibility'\n",
    "\n",
    "#WeatherSummary: Breezy, Breezy and mostly cloudy, clear, drizzle, dry , flurries, flurries and breezy, foggy, heavy snow, light rain, light snow, mostly cloudy, overcast, partly cloudy, rain, rain and breezy, snow\n",
    "lbWeatherSummary = 'WeatherSummary'\n",
    "\n",
    "lbApparentTemperature = 'ApparentTemperature_F'\n",
    "lbPressure = 'Pressure_hPa'\n",
    "lbWindSpeed = 'WindSpeed'\n",
    "lbCloudCover = 'cloudCover'\n",
    "\n",
    "lbWindBearing = 'WindBearing'\n",
    "\n",
    "#average intensity of rain fall: could be mm/minute mm/hour, inch per hour, inch per minute\n",
    "lbPrecipIntensity = 'PrecipIntensity' \t\n",
    "\n",
    "lbDewPoint = 'dewPoint_F'\n",
    "\n",
    "# chance of rain\n",
    "lbPrecipProbability = 'PrecipProbability'\n"
   ]
  },
  {
   "cell_type": "code",
   "execution_count": 3,
   "metadata": {},
   "outputs": [],
   "source": [
    "df.rename(columns = {\n",
    "        'time' : lbTimestamp,\n",
    "        'use [kW]' : lbTotalEneryUsage,\n",
    "        'gen [kW]' : lbEneryGeneration,\n",
    "        'House overall [kW]' : lbEneryUsageHouseOverall,\n",
    "        'Dishwasher [kW]' : lbDishwasherUsage,\n",
    "        'Furnace 1 [kW]' : lbFurnace1Usage,\n",
    "        'Furnace 2 [kW]' : lbFurnace2Usage,\n",
    "        'Home office [kW]' : lbHomeOfficeUsage,\n",
    "        'Fridge [kW]' : lbFridgeUsage,\n",
    "        'Wine cellar [kW]' : lbWineUsage,\n",
    "        'Garage door [kW]' : lbGarageDoorUsage,\n",
    "        'Kitchen 12 [kW]' : lbKitchen12Usage,\n",
    "        'Kitchen 14 [kW]' : lbKitchen14Usage,\n",
    "        'Kitchen 38 [kW]' : lbKitchen38Usage,\n",
    "        'Barn [kW]' : lbBarnUsage,\n",
    "        'Well [kW]' : lbWellUsage,\n",
    "        'Microwave [kW]' : lbMicrowaveUsage,\n",
    "        'Living room [kW]' : lbLivingRoomUsage,\n",
    "        'Solar [kW]' : lbSolarGenerated,\n",
    "        'temperature' : lbTemperature,\n",
    "        'icon' : lbWeatherIndicator,\n",
    "        'humidity' : lbHumidity,\n",
    "        'visibility' : lbVisibility,\n",
    "        'summary' : lbWeatherSummary,\n",
    "        'apparentTemperature' : lbApparentTemperature,\n",
    "        'pressure' : lbPressure,\n",
    "        'windSpeed' : lbWindSpeed,\n",
    "        'cloudCover' : lbCloudCover,\n",
    "        'windBearing' : lbWindBearing,\n",
    "        'precipIntensity' : lbPrecipIntensity,\n",
    "        'dewPoint' : lbDewPoint,\n",
    "        'precipProbability' : lbPrecipProbability\n",
    "    }, inplace = True)"
   ]
  },
  {
   "cell_type": "code",
   "execution_count": null,
   "metadata": {},
   "outputs": [],
   "source": [
    "from project_lib import Project\n",
    "project = Project(None,\"[GUID]\",\"p-[GUID]\")\n",
    "project.save_data(file_name = \"smart-home-dataset-with-weather-information_post_etl.csv\",data = df.to_csv(index=False))"
   ]
  },
  {
   "cell_type": "code",
   "execution_count": null,
   "metadata": {},
   "outputs": [],
   "source": []
  }
 ],
 "metadata": {
  "kernelspec": {
   "display_name": "Python 3",
   "language": "python",
   "name": "python3"
  },
  "language_info": {
   "codemirror_mode": {
    "name": "ipython",
    "version": 3
   },
   "file_extension": ".py",
   "mimetype": "text/x-python",
   "name": "python",
   "nbconvert_exporter": "python",
   "pygments_lexer": "ipython3",
   "version": "3.7.6"
  }
 },
 "nbformat": 4,
 "nbformat_minor": 1
}
